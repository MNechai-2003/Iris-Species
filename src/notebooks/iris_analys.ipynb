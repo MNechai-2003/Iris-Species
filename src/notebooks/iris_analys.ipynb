{
 "cells": [
  {
   "cell_type": "code",
   "execution_count": 5,
   "metadata": {},
   "outputs": [
    {
     "name": "stdout",
     "output_type": "stream",
     "text": [
      "The autoreload extension is already loaded. To reload it, use:\n",
      "  %reload_ext autoreload\n"
     ]
    }
   ],
   "source": [
    "%load_ext autoreload\n",
    "%autoreload 2"
   ]
  },
  {
   "cell_type": "markdown",
   "metadata": {},
   "source": [
    "### Import all required libraries and modules"
   ]
  },
  {
   "cell_type": "code",
   "execution_count": 6,
   "metadata": {},
   "outputs": [],
   "source": [
    "import os \n",
    "import pandas as pd \n",
    "from sklearn.model_selection import train_test_split\n",
    "from sklearn.linear_model import LogisticRegression\n",
    "from sklearn.metrics import accuracy_score, precision_score, recall_score, f1_score"
   ]
  },
  {
   "cell_type": "code",
   "execution_count": 7,
   "metadata": {},
   "outputs": [],
   "source": [
    "os.chdir(\"/Users/nikolaynechay/Iris-Species\")"
   ]
  },
  {
   "cell_type": "markdown",
   "metadata": {},
   "source": [
    "# Data Collection"
   ]
  },
  {
   "cell_type": "markdown",
   "metadata": {},
   "source": [
    "### Setting required Global Variables"
   ]
  },
  {
   "cell_type": "code",
   "execution_count": 8,
   "metadata": {},
   "outputs": [],
   "source": [
    "IRIS_PATH=\"src/core/datafiles/raw/Iris.csv\""
   ]
  },
  {
   "cell_type": "markdown",
   "metadata": {},
   "source": [
    "### Load dataset"
   ]
  },
  {
   "cell_type": "code",
   "execution_count": 9,
   "metadata": {},
   "outputs": [
    {
     "data": {
      "text/html": [
       "<style type=\"text/css\">\n",
       "#T_5eee2_row0_col0, #T_5eee2_row3_col2, #T_5eee2_row4_col1 {\n",
       "  background-color: #023858;\n",
       "  color: #f1f1f1;\n",
       "}\n",
       "#T_5eee2_row0_col1 {\n",
       "  background-color: #046198;\n",
       "  color: #f1f1f1;\n",
       "}\n",
       "#T_5eee2_row0_col2, #T_5eee2_row1_col2, #T_5eee2_row4_col2 {\n",
       "  background-color: #75a9cf;\n",
       "  color: #f1f1f1;\n",
       "}\n",
       "#T_5eee2_row0_col3, #T_5eee2_row1_col1, #T_5eee2_row1_col3, #T_5eee2_row2_col2, #T_5eee2_row2_col3, #T_5eee2_row3_col0, #T_5eee2_row3_col3, #T_5eee2_row4_col3 {\n",
       "  background-color: #fff7fb;\n",
       "  color: #000000;\n",
       "}\n",
       "#T_5eee2_row1_col0 {\n",
       "  background-color: #4295c3;\n",
       "  color: #f1f1f1;\n",
       "}\n",
       "#T_5eee2_row2_col0 {\n",
       "  background-color: #dbdaeb;\n",
       "  color: #000000;\n",
       "}\n",
       "#T_5eee2_row2_col1 {\n",
       "  background-color: #b4c4df;\n",
       "  color: #000000;\n",
       "}\n",
       "#T_5eee2_row3_col1 {\n",
       "  background-color: #e3e0ee;\n",
       "  color: #000000;\n",
       "}\n",
       "#T_5eee2_row4_col0 {\n",
       "  background-color: #0567a2;\n",
       "  color: #f1f1f1;\n",
       "}\n",
       "</style>\n",
       "<table id=\"T_5eee2\">\n",
       "  <thead>\n",
       "    <tr>\n",
       "      <th class=\"blank level0\" >&nbsp;</th>\n",
       "      <th id=\"T_5eee2_level0_col0\" class=\"col_heading level0 col0\" >SepalLengthCm</th>\n",
       "      <th id=\"T_5eee2_level0_col1\" class=\"col_heading level0 col1\" >SepalWidthCm</th>\n",
       "      <th id=\"T_5eee2_level0_col2\" class=\"col_heading level0 col2\" >PetalLengthCm</th>\n",
       "      <th id=\"T_5eee2_level0_col3\" class=\"col_heading level0 col3\" >PetalWidthCm</th>\n",
       "      <th id=\"T_5eee2_level0_col4\" class=\"col_heading level0 col4\" >Species</th>\n",
       "    </tr>\n",
       "  </thead>\n",
       "  <tbody>\n",
       "    <tr>\n",
       "      <th id=\"T_5eee2_level0_row0\" class=\"row_heading level0 row0\" >0</th>\n",
       "      <td id=\"T_5eee2_row0_col0\" class=\"data row0 col0\" >5.100000</td>\n",
       "      <td id=\"T_5eee2_row0_col1\" class=\"data row0 col1\" >3.500000</td>\n",
       "      <td id=\"T_5eee2_row0_col2\" class=\"data row0 col2\" >1.400000</td>\n",
       "      <td id=\"T_5eee2_row0_col3\" class=\"data row0 col3\" >0.200000</td>\n",
       "      <td id=\"T_5eee2_row0_col4\" class=\"data row0 col4\" >Iris-setosa</td>\n",
       "    </tr>\n",
       "    <tr>\n",
       "      <th id=\"T_5eee2_level0_row1\" class=\"row_heading level0 row1\" >1</th>\n",
       "      <td id=\"T_5eee2_row1_col0\" class=\"data row1 col0\" >4.900000</td>\n",
       "      <td id=\"T_5eee2_row1_col1\" class=\"data row1 col1\" >3.000000</td>\n",
       "      <td id=\"T_5eee2_row1_col2\" class=\"data row1 col2\" >1.400000</td>\n",
       "      <td id=\"T_5eee2_row1_col3\" class=\"data row1 col3\" >0.200000</td>\n",
       "      <td id=\"T_5eee2_row1_col4\" class=\"data row1 col4\" >Iris-setosa</td>\n",
       "    </tr>\n",
       "    <tr>\n",
       "      <th id=\"T_5eee2_level0_row2\" class=\"row_heading level0 row2\" >2</th>\n",
       "      <td id=\"T_5eee2_row2_col0\" class=\"data row2 col0\" >4.700000</td>\n",
       "      <td id=\"T_5eee2_row2_col1\" class=\"data row2 col1\" >3.200000</td>\n",
       "      <td id=\"T_5eee2_row2_col2\" class=\"data row2 col2\" >1.300000</td>\n",
       "      <td id=\"T_5eee2_row2_col3\" class=\"data row2 col3\" >0.200000</td>\n",
       "      <td id=\"T_5eee2_row2_col4\" class=\"data row2 col4\" >Iris-setosa</td>\n",
       "    </tr>\n",
       "    <tr>\n",
       "      <th id=\"T_5eee2_level0_row3\" class=\"row_heading level0 row3\" >3</th>\n",
       "      <td id=\"T_5eee2_row3_col0\" class=\"data row3 col0\" >4.600000</td>\n",
       "      <td id=\"T_5eee2_row3_col1\" class=\"data row3 col1\" >3.100000</td>\n",
       "      <td id=\"T_5eee2_row3_col2\" class=\"data row3 col2\" >1.500000</td>\n",
       "      <td id=\"T_5eee2_row3_col3\" class=\"data row3 col3\" >0.200000</td>\n",
       "      <td id=\"T_5eee2_row3_col4\" class=\"data row3 col4\" >Iris-setosa</td>\n",
       "    </tr>\n",
       "    <tr>\n",
       "      <th id=\"T_5eee2_level0_row4\" class=\"row_heading level0 row4\" >4</th>\n",
       "      <td id=\"T_5eee2_row4_col0\" class=\"data row4 col0\" >5.000000</td>\n",
       "      <td id=\"T_5eee2_row4_col1\" class=\"data row4 col1\" >3.600000</td>\n",
       "      <td id=\"T_5eee2_row4_col2\" class=\"data row4 col2\" >1.400000</td>\n",
       "      <td id=\"T_5eee2_row4_col3\" class=\"data row4 col3\" >0.200000</td>\n",
       "      <td id=\"T_5eee2_row4_col4\" class=\"data row4 col4\" >Iris-setosa</td>\n",
       "    </tr>\n",
       "  </tbody>\n",
       "</table>\n"
      ],
      "text/plain": [
       "<pandas.io.formats.style.Styler at 0x12efb5b50>"
      ]
     },
     "metadata": {},
     "output_type": "display_data"
    }
   ],
   "source": [
    "iris_df = pd.read_csv(IRIS_PATH)\n",
    "iris_df.drop('Id', axis=1, inplace=True)  # Delete ID column\n",
    "display(iris_df.head().style.background_gradient())"
   ]
  },
  {
   "cell_type": "markdown",
   "metadata": {},
   "source": [
    "# Model building"
   ]
  },
  {
   "cell_type": "code",
   "execution_count": 10,
   "metadata": {},
   "outputs": [],
   "source": [
    "# Split data into train and test sets\n",
    "X, y = iris_df.drop('Species', axis=1), iris_df['Species']\n",
    "X_train, X_test, y_train, y_test = train_test_split(\n",
    "    X,y,\n",
    "    test_size=0.2,\n",
    "    random_state=41,\n",
    "    stratify=y\n",
    ")"
   ]
  },
  {
   "cell_type": "code",
   "execution_count": 11,
   "metadata": {},
   "outputs": [
    {
     "name": "stdout",
     "output_type": "stream",
     "text": [
      "Accuracy: 0.9333\n",
      "Precision: 0.9333\n",
      "Recall: 0.9333\n",
      "F1 Score: 0.9333\n"
     ]
    },
    {
     "name": "stderr",
     "output_type": "stream",
     "text": [
      "/Users/nikolaynechay/anaconda3/envs/deloitte_studing_env/lib/python3.11/site-packages/sklearn/linear_model/_logistic.py:470: ConvergenceWarning: lbfgs failed to converge after 50 iteration(s) (status=1):\n",
      "STOP: TOTAL NO. of ITERATIONS REACHED LIMIT\n",
      "\n",
      "Increase the number of iterations to improve the convergence (max_iter=50).\n",
      "You might also want to scale the data as shown in:\n",
      "    https://scikit-learn.org/stable/modules/preprocessing.html\n",
      "Please also refer to the documentation for alternative solver options:\n",
      "    https://scikit-learn.org/stable/modules/linear_model.html#logistic-regression\n",
      "  n_iter_i = _check_optimize_result(\n"
     ]
    }
   ],
   "source": [
    "# build a logistic regression model\n",
    "model = LogisticRegression(max_iter=50, random_state=42)\n",
    "model.fit(X_train, y_train)\n",
    "\n",
    "y_pred = model.predict(X_test)\n",
    "\n",
    "# Evaluate model\n",
    "print(f\"Accuracy: {accuracy_score(y_test, y_pred):.4f}\")\n",
    "print(f\"Precision: {precision_score(y_test, y_pred, average='weighted'):.4f}\")\n",
    "print(f\"Recall: {recall_score(y_test, y_pred, average='weighted'):.4f}\")\n",
    "print(f\"F1 Score: {f1_score(y_test, y_pred, average='weighted'):.4f}\")"
   ]
  },
  {
   "cell_type": "code",
   "execution_count": null,
   "metadata": {},
   "outputs": [],
   "source": []
  }
 ],
 "metadata": {
  "kernelspec": {
   "display_name": "Python (deloitte_studing_env)",
   "language": "python",
   "name": "deloitte_studing_env"
  },
  "language_info": {
   "codemirror_mode": {
    "name": "ipython",
    "version": 3
   },
   "file_extension": ".py",
   "mimetype": "text/x-python",
   "name": "python",
   "nbconvert_exporter": "python",
   "pygments_lexer": "ipython3",
   "version": "3.11.13"
  }
 },
 "nbformat": 4,
 "nbformat_minor": 2
}
